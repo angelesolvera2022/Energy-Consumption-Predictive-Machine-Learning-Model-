{
 "cells": [
  {
   "cell_type": "markdown",
   "id": "525ba6d6-7f81-4ab2-8517-97910fed30e7",
   "metadata": {},
   "source": [
    "# Predict energy usage for the following year per month"
   ]
  },
  {
   "cell_type": "code",
   "execution_count": 1,
   "id": "dd8da500-8c04-4167-95ed-c6271c07f907",
   "metadata": {},
   "outputs": [],
   "source": [
    "import pandas as pd \n",
    "import numpy as np \n",
    "import matplotlib.pyplot as plt "
   ]
  },
  {
   "cell_type": "code",
   "execution_count": 2,
   "id": "b31d8e18-64ff-4238-892e-b51411712e3d",
   "metadata": {},
   "outputs": [
    {
     "data": {
      "text/html": [
       "<div>\n",
       "<style scoped>\n",
       "    .dataframe tbody tr th:only-of-type {\n",
       "        vertical-align: middle;\n",
       "    }\n",
       "\n",
       "    .dataframe tbody tr th {\n",
       "        vertical-align: top;\n",
       "    }\n",
       "\n",
       "    .dataframe thead th {\n",
       "        text-align: right;\n",
       "    }\n",
       "</style>\n",
       "<table border=\"1\" class=\"dataframe\">\n",
       "  <thead>\n",
       "    <tr style=\"text-align: right;\">\n",
       "      <th></th>\n",
       "      <th>Month</th>\n",
       "      <th>Hour</th>\n",
       "      <th>DayOfWeek</th>\n",
       "      <th>Holiday</th>\n",
       "      <th>Temperature</th>\n",
       "      <th>Humidity</th>\n",
       "      <th>SquareFootage</th>\n",
       "      <th>Occupancy</th>\n",
       "      <th>HVACUsage</th>\n",
       "      <th>LightingUsage</th>\n",
       "      <th>RenewableEnergy</th>\n",
       "      <th>EnergyConsumption</th>\n",
       "    </tr>\n",
       "  </thead>\n",
       "  <tbody>\n",
       "    <tr>\n",
       "      <th>0</th>\n",
       "      <td>1</td>\n",
       "      <td>0</td>\n",
       "      <td>Saturday</td>\n",
       "      <td>No</td>\n",
       "      <td>25.139433</td>\n",
       "      <td>43.431581</td>\n",
       "      <td>1565.693999</td>\n",
       "      <td>5</td>\n",
       "      <td>On</td>\n",
       "      <td>Off</td>\n",
       "      <td>2.774699</td>\n",
       "      <td>75.364373</td>\n",
       "    </tr>\n",
       "    <tr>\n",
       "      <th>1</th>\n",
       "      <td>1</td>\n",
       "      <td>1</td>\n",
       "      <td>Saturday</td>\n",
       "      <td>No</td>\n",
       "      <td>27.731651</td>\n",
       "      <td>54.225919</td>\n",
       "      <td>1411.064918</td>\n",
       "      <td>1</td>\n",
       "      <td>On</td>\n",
       "      <td>On</td>\n",
       "      <td>21.831384</td>\n",
       "      <td>83.401855</td>\n",
       "    </tr>\n",
       "    <tr>\n",
       "      <th>2</th>\n",
       "      <td>1</td>\n",
       "      <td>2</td>\n",
       "      <td>Saturday</td>\n",
       "      <td>No</td>\n",
       "      <td>28.704277</td>\n",
       "      <td>58.907658</td>\n",
       "      <td>1755.715009</td>\n",
       "      <td>2</td>\n",
       "      <td>Off</td>\n",
       "      <td>Off</td>\n",
       "      <td>6.764672</td>\n",
       "      <td>78.270888</td>\n",
       "    </tr>\n",
       "    <tr>\n",
       "      <th>3</th>\n",
       "      <td>1</td>\n",
       "      <td>3</td>\n",
       "      <td>Saturday</td>\n",
       "      <td>No</td>\n",
       "      <td>20.080469</td>\n",
       "      <td>50.371637</td>\n",
       "      <td>1452.316318</td>\n",
       "      <td>1</td>\n",
       "      <td>Off</td>\n",
       "      <td>On</td>\n",
       "      <td>8.623447</td>\n",
       "      <td>56.519850</td>\n",
       "    </tr>\n",
       "    <tr>\n",
       "      <th>4</th>\n",
       "      <td>1</td>\n",
       "      <td>4</td>\n",
       "      <td>Saturday</td>\n",
       "      <td>No</td>\n",
       "      <td>23.097359</td>\n",
       "      <td>51.401421</td>\n",
       "      <td>1094.130359</td>\n",
       "      <td>9</td>\n",
       "      <td>On</td>\n",
       "      <td>Off</td>\n",
       "      <td>3.071969</td>\n",
       "      <td>70.811732</td>\n",
       "    </tr>\n",
       "    <tr>\n",
       "      <th>...</th>\n",
       "      <td>...</td>\n",
       "      <td>...</td>\n",
       "      <td>...</td>\n",
       "      <td>...</td>\n",
       "      <td>...</td>\n",
       "      <td>...</td>\n",
       "      <td>...</td>\n",
       "      <td>...</td>\n",
       "      <td>...</td>\n",
       "      <td>...</td>\n",
       "      <td>...</td>\n",
       "      <td>...</td>\n",
       "    </tr>\n",
       "    <tr>\n",
       "      <th>4995</th>\n",
       "      <td>12</td>\n",
       "      <td>6</td>\n",
       "      <td>Sunday</td>\n",
       "      <td>Yes</td>\n",
       "      <td>26.338718</td>\n",
       "      <td>52.580000</td>\n",
       "      <td>1563.567259</td>\n",
       "      <td>7</td>\n",
       "      <td>On</td>\n",
       "      <td>On</td>\n",
       "      <td>20.591717</td>\n",
       "      <td>70.270344</td>\n",
       "    </tr>\n",
       "    <tr>\n",
       "      <th>4996</th>\n",
       "      <td>12</td>\n",
       "      <td>17</td>\n",
       "      <td>Monday</td>\n",
       "      <td>No</td>\n",
       "      <td>20.007565</td>\n",
       "      <td>42.765607</td>\n",
       "      <td>1999.982252</td>\n",
       "      <td>5</td>\n",
       "      <td>Off</td>\n",
       "      <td>On</td>\n",
       "      <td>7.536319</td>\n",
       "      <td>73.943071</td>\n",
       "    </tr>\n",
       "    <tr>\n",
       "      <th>4997</th>\n",
       "      <td>12</td>\n",
       "      <td>13</td>\n",
       "      <td>Thursday</td>\n",
       "      <td>Yes</td>\n",
       "      <td>26.226253</td>\n",
       "      <td>30.015975</td>\n",
       "      <td>1999.982252</td>\n",
       "      <td>5</td>\n",
       "      <td>Off</td>\n",
       "      <td>On</td>\n",
       "      <td>28.162193</td>\n",
       "      <td>85.784613</td>\n",
       "    </tr>\n",
       "    <tr>\n",
       "      <th>4998</th>\n",
       "      <td>12</td>\n",
       "      <td>8</td>\n",
       "      <td>Saturday</td>\n",
       "      <td>Yes</td>\n",
       "      <td>24.673206</td>\n",
       "      <td>50.223939</td>\n",
       "      <td>1240.811298</td>\n",
       "      <td>2</td>\n",
       "      <td>On</td>\n",
       "      <td>On</td>\n",
       "      <td>20.918483</td>\n",
       "      <td>63.784001</td>\n",
       "    </tr>\n",
       "    <tr>\n",
       "      <th>4999</th>\n",
       "      <td>12</td>\n",
       "      <td>1</td>\n",
       "      <td>Saturday</td>\n",
       "      <td>Yes</td>\n",
       "      <td>25.802872</td>\n",
       "      <td>41.798829</td>\n",
       "      <td>1793.658686</td>\n",
       "      <td>6</td>\n",
       "      <td>Off</td>\n",
       "      <td>Off</td>\n",
       "      <td>8.334079</td>\n",
       "      <td>53.263278</td>\n",
       "    </tr>\n",
       "  </tbody>\n",
       "</table>\n",
       "<p>5000 rows × 12 columns</p>\n",
       "</div>"
      ],
      "text/plain": [
       "      Month  Hour DayOfWeek Holiday  Temperature   Humidity  SquareFootage  \\\n",
       "0         1     0  Saturday      No    25.139433  43.431581    1565.693999   \n",
       "1         1     1  Saturday      No    27.731651  54.225919    1411.064918   \n",
       "2         1     2  Saturday      No    28.704277  58.907658    1755.715009   \n",
       "3         1     3  Saturday      No    20.080469  50.371637    1452.316318   \n",
       "4         1     4  Saturday      No    23.097359  51.401421    1094.130359   \n",
       "...     ...   ...       ...     ...          ...        ...            ...   \n",
       "4995     12     6    Sunday     Yes    26.338718  52.580000    1563.567259   \n",
       "4996     12    17    Monday      No    20.007565  42.765607    1999.982252   \n",
       "4997     12    13  Thursday     Yes    26.226253  30.015975    1999.982252   \n",
       "4998     12     8  Saturday     Yes    24.673206  50.223939    1240.811298   \n",
       "4999     12     1  Saturday     Yes    25.802872  41.798829    1793.658686   \n",
       "\n",
       "      Occupancy HVACUsage LightingUsage  RenewableEnergy  EnergyConsumption  \n",
       "0             5        On           Off         2.774699          75.364373  \n",
       "1             1        On            On        21.831384          83.401855  \n",
       "2             2       Off           Off         6.764672          78.270888  \n",
       "3             1       Off            On         8.623447          56.519850  \n",
       "4             9        On           Off         3.071969          70.811732  \n",
       "...         ...       ...           ...              ...                ...  \n",
       "4995          7        On            On        20.591717          70.270344  \n",
       "4996          5       Off            On         7.536319          73.943071  \n",
       "4997          5       Off            On        28.162193          85.784613  \n",
       "4998          2        On            On        20.918483          63.784001  \n",
       "4999          6       Off           Off         8.334079          53.263278  \n",
       "\n",
       "[5000 rows x 12 columns]"
      ]
     },
     "execution_count": 2,
     "metadata": {},
     "output_type": "execute_result"
    }
   ],
   "source": [
    "data = pd.read_csv(\"Energy_consumption_dataset.csv\")\n",
    "data"
   ]
  },
  {
   "cell_type": "markdown",
   "id": "abdae064-8b4a-4041-b711-645ba55934ba",
   "metadata": {},
   "source": [
    "**Explore the dataset**"
   ]
  },
  {
   "cell_type": "code",
   "execution_count": 3,
   "id": "3ed3086a-a961-4c6d-bb0f-2bb540c95a42",
   "metadata": {},
   "outputs": [
    {
     "name": "stdout",
     "output_type": "stream",
     "text": [
      "<class 'pandas.core.frame.DataFrame'>\n",
      "RangeIndex: 5000 entries, 0 to 4999\n",
      "Data columns (total 12 columns):\n",
      " #   Column             Non-Null Count  Dtype  \n",
      "---  ------             --------------  -----  \n",
      " 0   Month              5000 non-null   int64  \n",
      " 1   Hour               5000 non-null   int64  \n",
      " 2   DayOfWeek          5000 non-null   object \n",
      " 3   Holiday            5000 non-null   object \n",
      " 4   Temperature        5000 non-null   float64\n",
      " 5   Humidity           5000 non-null   float64\n",
      " 6   SquareFootage      5000 non-null   float64\n",
      " 7   Occupancy          5000 non-null   int64  \n",
      " 8   HVACUsage          5000 non-null   object \n",
      " 9   LightingUsage      5000 non-null   object \n",
      " 10  RenewableEnergy    5000 non-null   float64\n",
      " 11  EnergyConsumption  5000 non-null   float64\n",
      "dtypes: float64(5), int64(3), object(4)\n",
      "memory usage: 468.9+ KB\n"
     ]
    }
   ],
   "source": [
    "data.info()"
   ]
  },
  {
   "cell_type": "code",
   "execution_count": 4,
   "id": "283ff411-9b49-4460-a999-eeda86592dfe",
   "metadata": {},
   "outputs": [
    {
     "data": {
      "text/plain": [
       "(5000, 12)"
      ]
     },
     "execution_count": 4,
     "metadata": {},
     "output_type": "execute_result"
    }
   ],
   "source": [
    "data.shape"
   ]
  },
  {
   "cell_type": "code",
   "execution_count": 5,
   "id": "6ca755b0-e411-4647-9ab7-b2f0601d4b15",
   "metadata": {},
   "outputs": [
    {
     "data": {
      "text/plain": [
       "Month                  int64\n",
       "Hour                   int64\n",
       "DayOfWeek             object\n",
       "Holiday               object\n",
       "Temperature          float64\n",
       "Humidity             float64\n",
       "SquareFootage        float64\n",
       "Occupancy              int64\n",
       "HVACUsage             object\n",
       "LightingUsage         object\n",
       "RenewableEnergy      float64\n",
       "EnergyConsumption    float64\n",
       "dtype: object"
      ]
     },
     "execution_count": 5,
     "metadata": {},
     "output_type": "execute_result"
    }
   ],
   "source": [
    "data.dtypes"
   ]
  },
  {
   "cell_type": "code",
   "execution_count": 6,
   "id": "1ed5591c-4a4d-4ad6-89ce-f3d4c0ae4fda",
   "metadata": {},
   "outputs": [
    {
     "data": {
      "text/plain": [
       "Month                0\n",
       "Hour                 0\n",
       "DayOfWeek            0\n",
       "Holiday              0\n",
       "Temperature          0\n",
       "Humidity             0\n",
       "SquareFootage        0\n",
       "Occupancy            0\n",
       "HVACUsage            0\n",
       "LightingUsage        0\n",
       "RenewableEnergy      0\n",
       "EnergyConsumption    0\n",
       "dtype: int64"
      ]
     },
     "execution_count": 6,
     "metadata": {},
     "output_type": "execute_result"
    }
   ],
   "source": [
    "data.isna().sum()"
   ]
  },
  {
   "cell_type": "markdown",
   "id": "ecf8ab89-660f-4b83-a887-7dd7f5ff9c77",
   "metadata": {},
   "source": [
    "The data has no missing values. "
   ]
  },
  {
   "cell_type": "code",
   "execution_count": 7,
   "id": "aba1ed16-e0c4-4452-81e7-64c27846ca5d",
   "metadata": {},
   "outputs": [
    {
     "data": {
      "text/plain": [
       "array([False])"
      ]
     },
     "execution_count": 7,
     "metadata": {},
     "output_type": "execute_result"
    }
   ],
   "source": [
    "data.duplicated().unique()"
   ]
  },
  {
   "cell_type": "markdown",
   "id": "0fbf057a-701c-42b9-98cd-730df4d1d4b6",
   "metadata": {},
   "source": [
    "The data does not have any duplicate values "
   ]
  },
  {
   "cell_type": "markdown",
   "id": "86cf0f1c-75d4-4de0-98c0-f0de77520fcf",
   "metadata": {},
   "source": [
    "**Exploring catgorical columns**"
   ]
  },
  {
   "cell_type": "code",
   "execution_count": 8,
   "id": "2918d5ff-1417-4cae-bf4c-2bf077101775",
   "metadata": {},
   "outputs": [
    {
     "data": {
      "text/html": [
       "<div>\n",
       "<style scoped>\n",
       "    .dataframe tbody tr th:only-of-type {\n",
       "        vertical-align: middle;\n",
       "    }\n",
       "\n",
       "    .dataframe tbody tr th {\n",
       "        vertical-align: top;\n",
       "    }\n",
       "\n",
       "    .dataframe thead th {\n",
       "        text-align: right;\n",
       "    }\n",
       "</style>\n",
       "<table border=\"1\" class=\"dataframe\">\n",
       "  <thead>\n",
       "    <tr style=\"text-align: right;\">\n",
       "      <th></th>\n",
       "      <th>DayOfWeek</th>\n",
       "      <th>Holiday</th>\n",
       "      <th>HVACUsage</th>\n",
       "      <th>LightingUsage</th>\n",
       "    </tr>\n",
       "  </thead>\n",
       "  <tbody>\n",
       "    <tr>\n",
       "      <th>0</th>\n",
       "      <td>Saturday</td>\n",
       "      <td>No</td>\n",
       "      <td>On</td>\n",
       "      <td>Off</td>\n",
       "    </tr>\n",
       "    <tr>\n",
       "      <th>1</th>\n",
       "      <td>Saturday</td>\n",
       "      <td>No</td>\n",
       "      <td>On</td>\n",
       "      <td>On</td>\n",
       "    </tr>\n",
       "    <tr>\n",
       "      <th>2</th>\n",
       "      <td>Saturday</td>\n",
       "      <td>No</td>\n",
       "      <td>Off</td>\n",
       "      <td>Off</td>\n",
       "    </tr>\n",
       "    <tr>\n",
       "      <th>3</th>\n",
       "      <td>Saturday</td>\n",
       "      <td>No</td>\n",
       "      <td>Off</td>\n",
       "      <td>On</td>\n",
       "    </tr>\n",
       "    <tr>\n",
       "      <th>4</th>\n",
       "      <td>Saturday</td>\n",
       "      <td>No</td>\n",
       "      <td>On</td>\n",
       "      <td>Off</td>\n",
       "    </tr>\n",
       "    <tr>\n",
       "      <th>...</th>\n",
       "      <td>...</td>\n",
       "      <td>...</td>\n",
       "      <td>...</td>\n",
       "      <td>...</td>\n",
       "    </tr>\n",
       "    <tr>\n",
       "      <th>4995</th>\n",
       "      <td>Sunday</td>\n",
       "      <td>Yes</td>\n",
       "      <td>On</td>\n",
       "      <td>On</td>\n",
       "    </tr>\n",
       "    <tr>\n",
       "      <th>4996</th>\n",
       "      <td>Monday</td>\n",
       "      <td>No</td>\n",
       "      <td>Off</td>\n",
       "      <td>On</td>\n",
       "    </tr>\n",
       "    <tr>\n",
       "      <th>4997</th>\n",
       "      <td>Thursday</td>\n",
       "      <td>Yes</td>\n",
       "      <td>Off</td>\n",
       "      <td>On</td>\n",
       "    </tr>\n",
       "    <tr>\n",
       "      <th>4998</th>\n",
       "      <td>Saturday</td>\n",
       "      <td>Yes</td>\n",
       "      <td>On</td>\n",
       "      <td>On</td>\n",
       "    </tr>\n",
       "    <tr>\n",
       "      <th>4999</th>\n",
       "      <td>Saturday</td>\n",
       "      <td>Yes</td>\n",
       "      <td>Off</td>\n",
       "      <td>Off</td>\n",
       "    </tr>\n",
       "  </tbody>\n",
       "</table>\n",
       "<p>5000 rows × 4 columns</p>\n",
       "</div>"
      ],
      "text/plain": [
       "     DayOfWeek Holiday HVACUsage LightingUsage\n",
       "0     Saturday      No        On           Off\n",
       "1     Saturday      No        On            On\n",
       "2     Saturday      No       Off           Off\n",
       "3     Saturday      No       Off            On\n",
       "4     Saturday      No        On           Off\n",
       "...        ...     ...       ...           ...\n",
       "4995    Sunday     Yes        On            On\n",
       "4996    Monday      No       Off            On\n",
       "4997  Thursday     Yes       Off            On\n",
       "4998  Saturday     Yes        On            On\n",
       "4999  Saturday     Yes       Off           Off\n",
       "\n",
       "[5000 rows x 4 columns]"
      ]
     },
     "execution_count": 8,
     "metadata": {},
     "output_type": "execute_result"
    }
   ],
   "source": [
    "categoricals = data.select_dtypes(include = \"object\")\n",
    "categoricals"
   ]
  },
  {
   "cell_type": "code",
   "execution_count": 9,
   "id": "63bc7f8f-b2b1-43fc-a364-5df807550b61",
   "metadata": {},
   "outputs": [
    {
     "data": {
      "text/plain": [
       "array(['Saturday', 'Sunday', 'Monday', 'Tuesday', 'Wednesday', 'Thursday',\n",
       "       'Friday'], dtype=object)"
      ]
     },
     "execution_count": 9,
     "metadata": {},
     "output_type": "execute_result"
    }
   ],
   "source": [
    "categoricals[\"DayOfWeek\"].unique()"
   ]
  },
  {
   "cell_type": "code",
   "execution_count": 10,
   "id": "dfc11c1e-2984-4c69-bc76-79e086ca827e",
   "metadata": {},
   "outputs": [
    {
     "data": {
      "text/plain": [
       "array(['No', 'Yes'], dtype=object)"
      ]
     },
     "execution_count": 10,
     "metadata": {},
     "output_type": "execute_result"
    }
   ],
   "source": [
    "categoricals[\"Holiday\"].unique()"
   ]
  },
  {
   "cell_type": "code",
   "execution_count": 11,
   "id": "ba0f8b59-9a95-45b1-a1e4-5e04ad10df25",
   "metadata": {},
   "outputs": [
    {
     "data": {
      "text/plain": [
       "array(['On', 'Off'], dtype=object)"
      ]
     },
     "execution_count": 11,
     "metadata": {},
     "output_type": "execute_result"
    }
   ],
   "source": [
    "categoricals[\"HVACUsage\"].unique()"
   ]
  },
  {
   "cell_type": "code",
   "execution_count": 12,
   "id": "014b93ec-5427-4fcc-8eec-0e728e6030b5",
   "metadata": {},
   "outputs": [
    {
     "data": {
      "text/plain": [
       "array(['Off', 'On'], dtype=object)"
      ]
     },
     "execution_count": 12,
     "metadata": {},
     "output_type": "execute_result"
    }
   ],
   "source": [
    "categoricals[\"LightingUsage\"].unique()"
   ]
  },
  {
   "cell_type": "markdown",
   "id": "b7365d85-6875-490f-afd3-a17da7f88f50",
   "metadata": {},
   "source": [
    "As we can see categorical data is very clean with no missing values."
   ]
  },
  {
   "cell_type": "markdown",
   "id": "e68bb104-130b-4c0d-9272-a281fc66eb68",
   "metadata": {},
   "source": [
    "**Exploring numerical columns**"
   ]
  },
  {
   "cell_type": "code",
   "execution_count": 13,
   "id": "595e3676-a0d4-48d3-988d-7919bfb33659",
   "metadata": {},
   "outputs": [],
   "source": [
    "numericals = data.select_dtypes(include = \"int\")\n"
   ]
  },
  {
   "cell_type": "markdown",
   "id": "f22f765c-f5ac-4e3e-80d6-8255b73d6f27",
   "metadata": {},
   "source": [
    "These integer data type columns are actually categorical so computing a statistical summary would not be beneficial. "
   ]
  },
  {
   "cell_type": "code",
   "execution_count": 14,
   "id": "dd9ce598-4190-4511-9c1c-94481ceef530",
   "metadata": {},
   "outputs": [
    {
     "data": {
      "text/plain": [
       "array([ 1,  2,  3,  4,  5,  6,  7,  8,  9, 10, 11, 12])"
      ]
     },
     "execution_count": 14,
     "metadata": {},
     "output_type": "execute_result"
    }
   ],
   "source": [
    "numericals[\"Month\"].unique()"
   ]
  },
  {
   "cell_type": "markdown",
   "id": "a9fcfdea-72aa-43b0-b4b5-d615103772a8",
   "metadata": {},
   "source": [
    "This suggests the data is for 1 year of energy consumption records. "
   ]
  },
  {
   "cell_type": "code",
   "execution_count": 15,
   "id": "4f6c63f6-f9c4-49c9-8072-7a84b8162afc",
   "metadata": {},
   "outputs": [
    {
     "data": {
      "text/plain": [
       "array([ 0,  1,  2,  3,  4,  5,  6,  7,  8,  9, 10, 11, 12, 13, 14, 15, 16,\n",
       "       17, 18, 19, 20, 21, 22, 23])"
      ]
     },
     "execution_count": 15,
     "metadata": {},
     "output_type": "execute_result"
    }
   ],
   "source": [
    "numericals[\"Hour\"].unique()"
   ]
  },
  {
   "cell_type": "code",
   "execution_count": 16,
   "id": "28796ece-0eb4-4df6-95b0-7566309920ca",
   "metadata": {},
   "outputs": [
    {
     "data": {
      "text/plain": [
       "array([5, 1, 2, 9, 6, 8, 0, 4, 3, 7])"
      ]
     },
     "execution_count": 16,
     "metadata": {},
     "output_type": "execute_result"
    }
   ],
   "source": [
    "numericals[\"Occupancy\"].unique()"
   ]
  },
  {
   "cell_type": "code",
   "execution_count": 17,
   "id": "55343531-6ec5-4717-a855-36df59e3fd92",
   "metadata": {},
   "outputs": [
    {
     "data": {
      "text/html": [
       "<div>\n",
       "<style scoped>\n",
       "    .dataframe tbody tr th:only-of-type {\n",
       "        vertical-align: middle;\n",
       "    }\n",
       "\n",
       "    .dataframe tbody tr th {\n",
       "        vertical-align: top;\n",
       "    }\n",
       "\n",
       "    .dataframe thead th {\n",
       "        text-align: right;\n",
       "    }\n",
       "</style>\n",
       "<table border=\"1\" class=\"dataframe\">\n",
       "  <thead>\n",
       "    <tr style=\"text-align: right;\">\n",
       "      <th></th>\n",
       "      <th>Temperature</th>\n",
       "      <th>Humidity</th>\n",
       "      <th>SquareFootage</th>\n",
       "      <th>RenewableEnergy</th>\n",
       "      <th>EnergyConsumption</th>\n",
       "    </tr>\n",
       "  </thead>\n",
       "  <tbody>\n",
       "    <tr>\n",
       "      <th>0</th>\n",
       "      <td>25.139433</td>\n",
       "      <td>43.431581</td>\n",
       "      <td>1565.693999</td>\n",
       "      <td>2.774699</td>\n",
       "      <td>75.364373</td>\n",
       "    </tr>\n",
       "    <tr>\n",
       "      <th>1</th>\n",
       "      <td>27.731651</td>\n",
       "      <td>54.225919</td>\n",
       "      <td>1411.064918</td>\n",
       "      <td>21.831384</td>\n",
       "      <td>83.401855</td>\n",
       "    </tr>\n",
       "    <tr>\n",
       "      <th>2</th>\n",
       "      <td>28.704277</td>\n",
       "      <td>58.907658</td>\n",
       "      <td>1755.715009</td>\n",
       "      <td>6.764672</td>\n",
       "      <td>78.270888</td>\n",
       "    </tr>\n",
       "    <tr>\n",
       "      <th>3</th>\n",
       "      <td>20.080469</td>\n",
       "      <td>50.371637</td>\n",
       "      <td>1452.316318</td>\n",
       "      <td>8.623447</td>\n",
       "      <td>56.519850</td>\n",
       "    </tr>\n",
       "    <tr>\n",
       "      <th>4</th>\n",
       "      <td>23.097359</td>\n",
       "      <td>51.401421</td>\n",
       "      <td>1094.130359</td>\n",
       "      <td>3.071969</td>\n",
       "      <td>70.811732</td>\n",
       "    </tr>\n",
       "    <tr>\n",
       "      <th>...</th>\n",
       "      <td>...</td>\n",
       "      <td>...</td>\n",
       "      <td>...</td>\n",
       "      <td>...</td>\n",
       "      <td>...</td>\n",
       "    </tr>\n",
       "    <tr>\n",
       "      <th>4995</th>\n",
       "      <td>26.338718</td>\n",
       "      <td>52.580000</td>\n",
       "      <td>1563.567259</td>\n",
       "      <td>20.591717</td>\n",
       "      <td>70.270344</td>\n",
       "    </tr>\n",
       "    <tr>\n",
       "      <th>4996</th>\n",
       "      <td>20.007565</td>\n",
       "      <td>42.765607</td>\n",
       "      <td>1999.982252</td>\n",
       "      <td>7.536319</td>\n",
       "      <td>73.943071</td>\n",
       "    </tr>\n",
       "    <tr>\n",
       "      <th>4997</th>\n",
       "      <td>26.226253</td>\n",
       "      <td>30.015975</td>\n",
       "      <td>1999.982252</td>\n",
       "      <td>28.162193</td>\n",
       "      <td>85.784613</td>\n",
       "    </tr>\n",
       "    <tr>\n",
       "      <th>4998</th>\n",
       "      <td>24.673206</td>\n",
       "      <td>50.223939</td>\n",
       "      <td>1240.811298</td>\n",
       "      <td>20.918483</td>\n",
       "      <td>63.784001</td>\n",
       "    </tr>\n",
       "    <tr>\n",
       "      <th>4999</th>\n",
       "      <td>25.802872</td>\n",
       "      <td>41.798829</td>\n",
       "      <td>1793.658686</td>\n",
       "      <td>8.334079</td>\n",
       "      <td>53.263278</td>\n",
       "    </tr>\n",
       "  </tbody>\n",
       "</table>\n",
       "<p>5000 rows × 5 columns</p>\n",
       "</div>"
      ],
      "text/plain": [
       "      Temperature   Humidity  SquareFootage  RenewableEnergy  \\\n",
       "0       25.139433  43.431581    1565.693999         2.774699   \n",
       "1       27.731651  54.225919    1411.064918        21.831384   \n",
       "2       28.704277  58.907658    1755.715009         6.764672   \n",
       "3       20.080469  50.371637    1452.316318         8.623447   \n",
       "4       23.097359  51.401421    1094.130359         3.071969   \n",
       "...           ...        ...            ...              ...   \n",
       "4995    26.338718  52.580000    1563.567259        20.591717   \n",
       "4996    20.007565  42.765607    1999.982252         7.536319   \n",
       "4997    26.226253  30.015975    1999.982252        28.162193   \n",
       "4998    24.673206  50.223939    1240.811298        20.918483   \n",
       "4999    25.802872  41.798829    1793.658686         8.334079   \n",
       "\n",
       "      EnergyConsumption  \n",
       "0             75.364373  \n",
       "1             83.401855  \n",
       "2             78.270888  \n",
       "3             56.519850  \n",
       "4             70.811732  \n",
       "...                 ...  \n",
       "4995          70.270344  \n",
       "4996          73.943071  \n",
       "4997          85.784613  \n",
       "4998          63.784001  \n",
       "4999          53.263278  \n",
       "\n",
       "[5000 rows x 5 columns]"
      ]
     },
     "execution_count": 17,
     "metadata": {},
     "output_type": "execute_result"
    }
   ],
   "source": [
    "floats =  data.select_dtypes(include = \"float\")\n",
    "floats"
   ]
  },
  {
   "cell_type": "code",
   "execution_count": 18,
   "id": "7cbfae05-88d0-436d-88d4-774521f43c6f",
   "metadata": {},
   "outputs": [
    {
     "data": {
      "text/html": [
       "<div>\n",
       "<style scoped>\n",
       "    .dataframe tbody tr th:only-of-type {\n",
       "        vertical-align: middle;\n",
       "    }\n",
       "\n",
       "    .dataframe tbody tr th {\n",
       "        vertical-align: top;\n",
       "    }\n",
       "\n",
       "    .dataframe thead th {\n",
       "        text-align: right;\n",
       "    }\n",
       "</style>\n",
       "<table border=\"1\" class=\"dataframe\">\n",
       "  <thead>\n",
       "    <tr style=\"text-align: right;\">\n",
       "      <th></th>\n",
       "      <th>Temperature</th>\n",
       "      <th>Humidity</th>\n",
       "      <th>SquareFootage</th>\n",
       "      <th>RenewableEnergy</th>\n",
       "      <th>EnergyConsumption</th>\n",
       "    </tr>\n",
       "  </thead>\n",
       "  <tbody>\n",
       "    <tr>\n",
       "      <th>count</th>\n",
       "      <td>5000.000000</td>\n",
       "      <td>5000.000000</td>\n",
       "      <td>5000.000000</td>\n",
       "      <td>5000.000000</td>\n",
       "      <td>5000.000000</td>\n",
       "    </tr>\n",
       "    <tr>\n",
       "      <th>mean</th>\n",
       "      <td>24.946823</td>\n",
       "      <td>45.478146</td>\n",
       "      <td>1507.403201</td>\n",
       "      <td>15.201195</td>\n",
       "      <td>76.794919</td>\n",
       "    </tr>\n",
       "    <tr>\n",
       "      <th>std</th>\n",
       "      <td>3.041678</td>\n",
       "      <td>8.972690</td>\n",
       "      <td>293.147209</td>\n",
       "      <td>9.157038</td>\n",
       "      <td>9.231573</td>\n",
       "    </tr>\n",
       "    <tr>\n",
       "      <th>min</th>\n",
       "      <td>20.007565</td>\n",
       "      <td>30.015975</td>\n",
       "      <td>1000.512661</td>\n",
       "      <td>0.006642</td>\n",
       "      <td>53.263278</td>\n",
       "    </tr>\n",
       "    <tr>\n",
       "      <th>25%</th>\n",
       "      <td>22.453790</td>\n",
       "      <td>38.111104</td>\n",
       "      <td>1253.906598</td>\n",
       "      <td>7.477928</td>\n",
       "      <td>70.419588</td>\n",
       "    </tr>\n",
       "    <tr>\n",
       "      <th>50%</th>\n",
       "      <td>24.831846</td>\n",
       "      <td>45.793124</td>\n",
       "      <td>1513.581105</td>\n",
       "      <td>15.343830</td>\n",
       "      <td>76.696267</td>\n",
       "    </tr>\n",
       "    <tr>\n",
       "      <th>75%</th>\n",
       "      <td>27.427281</td>\n",
       "      <td>52.696651</td>\n",
       "      <td>1754.846457</td>\n",
       "      <td>22.889997</td>\n",
       "      <td>83.246274</td>\n",
       "    </tr>\n",
       "    <tr>\n",
       "      <th>max</th>\n",
       "      <td>29.998671</td>\n",
       "      <td>59.969085</td>\n",
       "      <td>1999.982252</td>\n",
       "      <td>29.965327</td>\n",
       "      <td>99.201120</td>\n",
       "    </tr>\n",
       "  </tbody>\n",
       "</table>\n",
       "</div>"
      ],
      "text/plain": [
       "       Temperature     Humidity  SquareFootage  RenewableEnergy  \\\n",
       "count  5000.000000  5000.000000    5000.000000      5000.000000   \n",
       "mean     24.946823    45.478146    1507.403201        15.201195   \n",
       "std       3.041678     8.972690     293.147209         9.157038   \n",
       "min      20.007565    30.015975    1000.512661         0.006642   \n",
       "25%      22.453790    38.111104    1253.906598         7.477928   \n",
       "50%      24.831846    45.793124    1513.581105        15.343830   \n",
       "75%      27.427281    52.696651    1754.846457        22.889997   \n",
       "max      29.998671    59.969085    1999.982252        29.965327   \n",
       "\n",
       "       EnergyConsumption  \n",
       "count        5000.000000  \n",
       "mean           76.794919  \n",
       "std             9.231573  \n",
       "min            53.263278  \n",
       "25%            70.419588  \n",
       "50%            76.696267  \n",
       "75%            83.246274  \n",
       "max            99.201120  "
      ]
     },
     "execution_count": 18,
     "metadata": {},
     "output_type": "execute_result"
    }
   ],
   "source": [
    "floats.describe()"
   ]
  },
  {
   "cell_type": "markdown",
   "id": "3f689e51-22c9-459e-b364-b9fbeb688c4b",
   "metadata": {},
   "source": [
    "Since the dataset contains no missing values or duplicate data, we can confidently assume the summary statistic is accurate and representative. Notably, the standard deviations for SquareFootage is significantly larger relative to their respective means, indicating high variability. This suggests large differences in property sizes which aligns with the expectation that larger spaces and higher occupancy levels lead to greater energy use. "
   ]
  },
  {
   "cell_type": "markdown",
   "id": "f92c5fae-bf71-4d21-8029-78a7b509d596",
   "metadata": {},
   "source": [
    "**Looking for outliers**"
   ]
  },
  {
   "cell_type": "code",
   "execution_count": 19,
   "id": "15f3d04b-19c2-4b0e-801d-f8d6c5a7f58f",
   "metadata": {},
   "outputs": [
    {
     "data": {
      "image/png": "[encoded data removed]",
      "text/plain": [
       "<Figure size 1000x700 with 1 Axes>"
      ]
     },
     "metadata": {},
     "output_type": "display_data"
    }
   ],
   "source": [
    "import seaborn as sns\n",
    "plt.figure(figsize = (10,7))\n",
    "sns.boxplot (x = \"Month\", y = \"EnergyConsumption\", data = data )\n",
    "plt.show()"
   ]
  },
  {
   "cell_type": "markdown",
   "id": "c174c776-de4a-44ed-a134-24f0548669f7",
   "metadata": {},
   "source": [
    "This box plot is demonstrating that month 1 is potentionally the only month with outliers compared to the rest of the months. For the purpose of this project we will be keeping these outliers and not dropping them as they are crusial to predict energy consumptions. It is only a trend to keep an eye out for. "
   ]
  },
  {
   "cell_type": "markdown",
   "id": "d3093265-eaa7-474b-858f-d5c0fae54f06",
   "metadata": {},
   "source": [
    "**Exploring explanatory variables and target variable**"
   ]
  },
  {
   "cell_type": "markdown",
   "id": "e7bcd557-186f-442b-9f8d-458fcb76a074",
   "metadata": {},
   "source": [
    "The target variable would be \"EnergyConsumption\" and my predictors would be Square Footage. Month, Hour, DayofWeek, Temperature, Humidity and Occupancy. Following there are some investigations done on some of these exploratory columns. "
   ]
  },
  {
   "cell_type": "code",
   "execution_count": 20,
   "id": "79139c85-3c7b-40df-a1fd-4aa358762683",
   "metadata": {},
   "outputs": [
    {
     "data": {
      "text/plain": [
       "Month\n",
       "6     75.659264\n",
       "9     75.897811\n",
       "5     76.202260\n",
       "8     76.560807\n",
       "10    76.678556\n",
       "1     76.945109\n",
       "3     76.990937\n",
       "12    77.127935\n",
       "7     77.251289\n",
       "11    77.341956\n",
       "2     77.377782\n",
       "4     77.585987\n",
       "Name: EnergyConsumption, dtype: float64"
      ]
     },
     "execution_count": 20,
     "metadata": {},
     "output_type": "execute_result"
    }
   ],
   "source": [
    "consumptionmean_by_month = data.groupby(\"Month\")[\"EnergyConsumption\"].mean().sort_values()\n",
    "consumptionmean_by_month"
   ]
  },
  {
   "cell_type": "markdown",
   "id": "ce1e6b70-fc87-4ad1-aeaa-619053d2854e",
   "metadata": {},
   "source": [
    "Judging from the population in the dataset it looks like the month with the least energy consumption is June and the highest energy consumption month is April. "
   ]
  },
  {
   "cell_type": "code",
   "execution_count": 21,
   "id": "ef62ac6a-5e9a-4e9a-a035-52997a048ff6",
   "metadata": {},
   "outputs": [
    {
     "data": {
      "text/html": [
       "<div>\n",
       "<style scoped>\n",
       "    .dataframe tbody tr th:only-of-type {\n",
       "        vertical-align: middle;\n",
       "    }\n",
       "\n",
       "    .dataframe tbody tr th {\n",
       "        vertical-align: top;\n",
       "    }\n",
       "\n",
       "    .dataframe thead th {\n",
       "        text-align: right;\n",
       "    }\n",
       "</style>\n",
       "<table border=\"1\" class=\"dataframe\">\n",
       "  <thead>\n",
       "    <tr style=\"text-align: right;\">\n",
       "      <th></th>\n",
       "      <th>SquareFootage</th>\n",
       "      <th>EnergyConsumption</th>\n",
       "    </tr>\n",
       "    <tr>\n",
       "      <th>Occupancy</th>\n",
       "      <th></th>\n",
       "      <th></th>\n",
       "    </tr>\n",
       "  </thead>\n",
       "  <tbody>\n",
       "    <tr>\n",
       "      <th>0</th>\n",
       "      <td>1512.761672</td>\n",
       "      <td>74.712218</td>\n",
       "    </tr>\n",
       "    <tr>\n",
       "      <th>1</th>\n",
       "      <td>1482.289568</td>\n",
       "      <td>75.166392</td>\n",
       "    </tr>\n",
       "    <tr>\n",
       "      <th>4</th>\n",
       "      <td>1540.708566</td>\n",
       "      <td>75.887569</td>\n",
       "    </tr>\n",
       "    <tr>\n",
       "      <th>2</th>\n",
       "      <td>1508.275765</td>\n",
       "      <td>76.101442</td>\n",
       "    </tr>\n",
       "    <tr>\n",
       "      <th>6</th>\n",
       "      <td>1522.818821</td>\n",
       "      <td>76.247514</td>\n",
       "    </tr>\n",
       "    <tr>\n",
       "      <th>3</th>\n",
       "      <td>1494.647371</td>\n",
       "      <td>76.555184</td>\n",
       "    </tr>\n",
       "    <tr>\n",
       "      <th>5</th>\n",
       "      <td>1483.757538</td>\n",
       "      <td>77.089554</td>\n",
       "    </tr>\n",
       "    <tr>\n",
       "      <th>7</th>\n",
       "      <td>1492.671646</td>\n",
       "      <td>78.220066</td>\n",
       "    </tr>\n",
       "    <tr>\n",
       "      <th>8</th>\n",
       "      <td>1527.335758</td>\n",
       "      <td>78.614895</td>\n",
       "    </tr>\n",
       "    <tr>\n",
       "      <th>9</th>\n",
       "      <td>1508.574410</td>\n",
       "      <td>78.972534</td>\n",
       "    </tr>\n",
       "  </tbody>\n",
       "</table>\n",
       "</div>"
      ],
      "text/plain": [
       "           SquareFootage  EnergyConsumption\n",
       "Occupancy                                  \n",
       "0            1512.761672          74.712218\n",
       "1            1482.289568          75.166392\n",
       "4            1540.708566          75.887569\n",
       "2            1508.275765          76.101442\n",
       "6            1522.818821          76.247514\n",
       "3            1494.647371          76.555184\n",
       "5            1483.757538          77.089554\n",
       "7            1492.671646          78.220066\n",
       "8            1527.335758          78.614895\n",
       "9            1508.574410          78.972534"
      ]
     },
     "execution_count": 21,
     "metadata": {},
     "output_type": "execute_result"
    }
   ],
   "source": [
    "occuancy_sqfootage = data.groupby([\"Occupancy\"])[[\"SquareFootage\", \"EnergyConsumption\"]].mean().sort_values(by = \"EnergyConsumption\")\n",
    "occuancy_sqfootage"
   ]
  },
  {
   "cell_type": "markdown",
   "id": "57c7afa5-989c-4d03-8d34-207149aa8408",
   "metadata": {},
   "source": [
    "But if we take another approach and judge per occupancy amount of people and square footage we can see a notably difference where energy consumption mean parameter go higher. This just demonstrates what we already knew the more people in a place the more energy consumption they use. "
   ]
  },
  {
   "cell_type": "markdown",
   "id": "18b99774-4941-496b-8afd-c8f7a7377eca",
   "metadata": {},
   "source": [
    "**Distributions Of Feature Values**"
   ]
  },
  {
   "cell_type": "code",
   "execution_count": 22,
   "id": "66268060-f320-48d9-af9f-b3f9941ae6a9",
   "metadata": {},
   "outputs": [
    {
     "data": {
      "text/plain": [
       "array([[<Axes: title={'center': 'Month'}>,\n",
       "        <Axes: title={'center': 'Hour'}>,\n",
       "        <Axes: title={'center': 'Temperature'}>],\n",
       "       [<Axes: title={'center': 'Humidity'}>,\n",
       "        <Axes: title={'center': 'SquareFootage'}>,\n",
       "        <Axes: title={'center': 'Occupancy'}>],\n",
       "       [<Axes: title={'center': 'RenewableEnergy'}>,\n",
       "        <Axes: title={'center': 'EnergyConsumption'}>, <Axes: >]],\n",
       "      dtype=object)"
      ]
     },
     "execution_count": 22,
     "metadata": {},
     "output_type": "execute_result"
    },
    {
     "data": {
      "image/png": "[encoded data removed]",
      "text/plain": [
       "<Figure size 1500x800 with 9 Axes>"
      ]
     },
     "metadata": {},
     "output_type": "display_data"
    }
   ],
   "source": [
    "data.hist(figsize = (15,8))\n"
   ]
  },
  {
   "cell_type": "markdown",
   "id": "a29c31aa-8d9d-4dbc-952b-02cd5f06c01a",
   "metadata": {},
   "source": [
    "- Here we can see that in terms of frequency in the Month histogram January and December had the most records but earlier it was found that the month with the highest mean energy consumption for Month was April. Looking into these 3 months for trends would be beneficial.\n",
    "- Energy consumption is the only feature in the dataset that follows a normal distribution. This indicates that most values cluster closely around the mean, with relatively few outliers, suggesting consistent and predictable patterns in energy usage across the dataset."
   ]
  },
  {
   "cell_type": "markdown",
   "id": "5ecf5735-e457-451b-9f8d-1dada9c05197",
   "metadata": {},
   "source": [
    "# Turning boolean columns into numerical categories "
   ]
  },
  {
   "cell_type": "code",
   "execution_count": 23,
   "id": "b82f4fde-a6fd-4062-9d4c-e9dbdc1d6327",
   "metadata": {},
   "outputs": [
    {
     "data": {
      "text/html": [
       "<div>\n",
       "<style scoped>\n",
       "    .dataframe tbody tr th:only-of-type {\n",
       "        vertical-align: middle;\n",
       "    }\n",
       "\n",
       "    .dataframe tbody tr th {\n",
       "        vertical-align: top;\n",
       "    }\n",
       "\n",
       "    .dataframe thead th {\n",
       "        text-align: right;\n",
       "    }\n",
       "</style>\n",
       "<table border=\"1\" class=\"dataframe\">\n",
       "  <thead>\n",
       "    <tr style=\"text-align: right;\">\n",
       "      <th></th>\n",
       "      <th>Holiday</th>\n",
       "      <th>HVACUsage</th>\n",
       "      <th>LightingUsage</th>\n",
       "    </tr>\n",
       "  </thead>\n",
       "  <tbody>\n",
       "    <tr>\n",
       "      <th>0</th>\n",
       "      <td>No</td>\n",
       "      <td>On</td>\n",
       "      <td>Off</td>\n",
       "    </tr>\n",
       "    <tr>\n",
       "      <th>1</th>\n",
       "      <td>No</td>\n",
       "      <td>On</td>\n",
       "      <td>On</td>\n",
       "    </tr>\n",
       "    <tr>\n",
       "      <th>2</th>\n",
       "      <td>No</td>\n",
       "      <td>Off</td>\n",
       "      <td>Off</td>\n",
       "    </tr>\n",
       "    <tr>\n",
       "      <th>3</th>\n",
       "      <td>No</td>\n",
       "      <td>Off</td>\n",
       "      <td>On</td>\n",
       "    </tr>\n",
       "    <tr>\n",
       "      <th>4</th>\n",
       "      <td>No</td>\n",
       "      <td>On</td>\n",
       "      <td>Off</td>\n",
       "    </tr>\n",
       "  </tbody>\n",
       "</table>\n",
       "</div>"
      ],
      "text/plain": [
       "  Holiday HVACUsage LightingUsage\n",
       "0      No        On           Off\n",
       "1      No        On            On\n",
       "2      No       Off           Off\n",
       "3      No       Off            On\n",
       "4      No        On           Off"
      ]
     },
     "execution_count": 23,
     "metadata": {},
     "output_type": "execute_result"
    }
   ],
   "source": [
    "data[[\"Holiday\", \"HVACUsage\", \"LightingUsage\"]].head()"
   ]
  },
  {
   "cell_type": "code",
   "execution_count": 24,
   "id": "8a02b78d-1494-40fe-a5cc-581b6ae5a088",
   "metadata": {},
   "outputs": [],
   "source": [
    "data[\"Holiday\"] = data[\"Holiday\"].map({\"Yes\": 1, \"No\": 0})\n"
   ]
  },
  {
   "cell_type": "code",
   "execution_count": 25,
   "id": "35319bdd-6060-40ea-bcf3-f61622ec202c",
   "metadata": {},
   "outputs": [],
   "source": [
    "data[\"HVACUsage\"]= data[\"HVACUsage\"].map({\"On\": 1, \"Off\":0})"
   ]
  },
  {
   "cell_type": "code",
   "execution_count": 26,
   "id": "b334e7b9-2273-4f66-8a3a-67bb7bc0e49b",
   "metadata": {},
   "outputs": [],
   "source": [
    "data[\"LightingUsage\"] = data[\"LightingUsage\"].map({\"On\":1, \"Off\": 0})"
   ]
  },
  {
   "cell_type": "code",
   "execution_count": 27,
   "id": "76bdb36c-87d5-4c09-a044-3a8fd19f7dc3",
   "metadata": {},
   "outputs": [
    {
     "data": {
      "text/html": [
       "<div>\n",
       "<style scoped>\n",
       "    .dataframe tbody tr th:only-of-type {\n",
       "        vertical-align: middle;\n",
       "    }\n",
       "\n",
       "    .dataframe tbody tr th {\n",
       "        vertical-align: top;\n",
       "    }\n",
       "\n",
       "    .dataframe thead th {\n",
       "        text-align: right;\n",
       "    }\n",
       "</style>\n",
       "<table border=\"1\" class=\"dataframe\">\n",
       "  <thead>\n",
       "    <tr style=\"text-align: right;\">\n",
       "      <th></th>\n",
       "      <th>Month</th>\n",
       "      <th>Hour</th>\n",
       "      <th>DayOfWeek</th>\n",
       "      <th>Holiday</th>\n",
       "      <th>Temperature</th>\n",
       "      <th>Humidity</th>\n",
       "      <th>SquareFootage</th>\n",
       "      <th>Occupancy</th>\n",
       "      <th>HVACUsage</th>\n",
       "      <th>LightingUsage</th>\n",
       "      <th>RenewableEnergy</th>\n",
       "      <th>EnergyConsumption</th>\n",
       "    </tr>\n",
       "  </thead>\n",
       "  <tbody>\n",
       "    <tr>\n",
       "      <th>0</th>\n",
       "      <td>1</td>\n",
       "      <td>0</td>\n",
       "      <td>Saturday</td>\n",
       "      <td>0</td>\n",
       "      <td>25.139433</td>\n",
       "      <td>43.431581</td>\n",
       "      <td>1565.693999</td>\n",
       "      <td>5</td>\n",
       "      <td>1</td>\n",
       "      <td>0</td>\n",
       "      <td>2.774699</td>\n",
       "      <td>75.364373</td>\n",
       "    </tr>\n",
       "    <tr>\n",
       "      <th>1</th>\n",
       "      <td>1</td>\n",
       "      <td>1</td>\n",
       "      <td>Saturday</td>\n",
       "      <td>0</td>\n",
       "      <td>27.731651</td>\n",
       "      <td>54.225919</td>\n",
       "      <td>1411.064918</td>\n",
       "      <td>1</td>\n",
       "      <td>1</td>\n",
       "      <td>1</td>\n",
       "      <td>21.831384</td>\n",
       "      <td>83.401855</td>\n",
       "    </tr>\n",
       "    <tr>\n",
       "      <th>2</th>\n",
       "      <td>1</td>\n",
       "      <td>2</td>\n",
       "      <td>Saturday</td>\n",
       "      <td>0</td>\n",
       "      <td>28.704277</td>\n",
       "      <td>58.907658</td>\n",
       "      <td>1755.715009</td>\n",
       "      <td>2</td>\n",
       "      <td>0</td>\n",
       "      <td>0</td>\n",
       "      <td>6.764672</td>\n",
       "      <td>78.270888</td>\n",
       "    </tr>\n",
       "    <tr>\n",
       "      <th>3</th>\n",
       "      <td>1</td>\n",
       "      <td>3</td>\n",
       "      <td>Saturday</td>\n",
       "      <td>0</td>\n",
       "      <td>20.080469</td>\n",
       "      <td>50.371637</td>\n",
       "      <td>1452.316318</td>\n",
       "      <td>1</td>\n",
       "      <td>0</td>\n",
       "      <td>1</td>\n",
       "      <td>8.623447</td>\n",
       "      <td>56.519850</td>\n",
       "    </tr>\n",
       "    <tr>\n",
       "      <th>4</th>\n",
       "      <td>1</td>\n",
       "      <td>4</td>\n",
       "      <td>Saturday</td>\n",
       "      <td>0</td>\n",
       "      <td>23.097359</td>\n",
       "      <td>51.401421</td>\n",
       "      <td>1094.130359</td>\n",
       "      <td>9</td>\n",
       "      <td>1</td>\n",
       "      <td>0</td>\n",
       "      <td>3.071969</td>\n",
       "      <td>70.811732</td>\n",
       "    </tr>\n",
       "    <tr>\n",
       "      <th>5</th>\n",
       "      <td>1</td>\n",
       "      <td>5</td>\n",
       "      <td>Saturday</td>\n",
       "      <td>1</td>\n",
       "      <td>29.576037</td>\n",
       "      <td>36.824263</td>\n",
       "      <td>1871.709180</td>\n",
       "      <td>6</td>\n",
       "      <td>0</td>\n",
       "      <td>0</td>\n",
       "      <td>17.626690</td>\n",
       "      <td>84.321885</td>\n",
       "    </tr>\n",
       "    <tr>\n",
       "      <th>6</th>\n",
       "      <td>1</td>\n",
       "      <td>6</td>\n",
       "      <td>Saturday</td>\n",
       "      <td>1</td>\n",
       "      <td>25.131167</td>\n",
       "      <td>35.709622</td>\n",
       "      <td>1607.001228</td>\n",
       "      <td>6</td>\n",
       "      <td>1</td>\n",
       "      <td>0</td>\n",
       "      <td>24.264702</td>\n",
       "      <td>76.165791</td>\n",
       "    </tr>\n",
       "    <tr>\n",
       "      <th>7</th>\n",
       "      <td>1</td>\n",
       "      <td>7</td>\n",
       "      <td>Saturday</td>\n",
       "      <td>1</td>\n",
       "      <td>23.182844</td>\n",
       "      <td>31.679920</td>\n",
       "      <td>1633.955330</td>\n",
       "      <td>8</td>\n",
       "      <td>0</td>\n",
       "      <td>0</td>\n",
       "      <td>27.517099</td>\n",
       "      <td>74.131906</td>\n",
       "    </tr>\n",
       "    <tr>\n",
       "      <th>8</th>\n",
       "      <td>1</td>\n",
       "      <td>8</td>\n",
       "      <td>Saturday</td>\n",
       "      <td>0</td>\n",
       "      <td>25.391999</td>\n",
       "      <td>46.399364</td>\n",
       "      <td>1240.309224</td>\n",
       "      <td>6</td>\n",
       "      <td>1</td>\n",
       "      <td>0</td>\n",
       "      <td>2.307595</td>\n",
       "      <td>78.206236</td>\n",
       "    </tr>\n",
       "    <tr>\n",
       "      <th>9</th>\n",
       "      <td>1</td>\n",
       "      <td>9</td>\n",
       "      <td>Saturday</td>\n",
       "      <td>0</td>\n",
       "      <td>22.212549</td>\n",
       "      <td>32.418464</td>\n",
       "      <td>1705.420336</td>\n",
       "      <td>1</td>\n",
       "      <td>1</td>\n",
       "      <td>0</td>\n",
       "      <td>29.140071</td>\n",
       "      <td>77.992214</td>\n",
       "    </tr>\n",
       "  </tbody>\n",
       "</table>\n",
       "</div>"
      ],
      "text/plain": [
       "   Month  Hour DayOfWeek  Holiday  Temperature   Humidity  SquareFootage  \\\n",
       "0      1     0  Saturday        0    25.139433  43.431581    1565.693999   \n",
       "1      1     1  Saturday        0    27.731651  54.225919    1411.064918   \n",
       "2      1     2  Saturday        0    28.704277  58.907658    1755.715009   \n",
       "3      1     3  Saturday        0    20.080469  50.371637    1452.316318   \n",
       "4      1     4  Saturday        0    23.097359  51.401421    1094.130359   \n",
       "5      1     5  Saturday        1    29.576037  36.824263    1871.709180   \n",
       "6      1     6  Saturday        1    25.131167  35.709622    1607.001228   \n",
       "7      1     7  Saturday        1    23.182844  31.679920    1633.955330   \n",
       "8      1     8  Saturday        0    25.391999  46.399364    1240.309224   \n",
       "9      1     9  Saturday        0    22.212549  32.418464    1705.420336   \n",
       "\n",
       "   Occupancy  HVACUsage  LightingUsage  RenewableEnergy  EnergyConsumption  \n",
       "0          5          1              0         2.774699          75.364373  \n",
       "1          1          1              1        21.831384          83.401855  \n",
       "2          2          0              0         6.764672          78.270888  \n",
       "3          1          0              1         8.623447          56.519850  \n",
       "4          9          1              0         3.071969          70.811732  \n",
       "5          6          0              0        17.626690          84.321885  \n",
       "6          6          1              0        24.264702          76.165791  \n",
       "7          8          0              0        27.517099          74.131906  \n",
       "8          6          1              0         2.307595          78.206236  \n",
       "9          1          1              0        29.140071          77.992214  "
      ]
     },
     "execution_count": 27,
     "metadata": {},
     "output_type": "execute_result"
    }
   ],
   "source": [
    "data.head(10)"
   ]
  },
  {
   "cell_type": "markdown",
   "id": "2e8024d6-91ac-4da1-88a1-cf4deacdf76c",
   "metadata": {},
   "source": [
    "Most machine learning algorithms work better with numerical data, converting boolean-like columns like \"Yes\"/\"No\" or \"On\"/\"Off\" into numeric values (1/0) makes them easier to process."
   ]
  },
  {
   "cell_type": "code",
   "execution_count": null,
   "id": "c2cb0516-2fb0-4a96-a7cc-daf927a18945",
   "metadata": {},
   "outputs": [],
   "source": []
  }
 ],
 "metadata": {
  "kernelspec": {
   "display_name": "Python (myenv)",
   "language": "python",
   "name": "myenv"
  },
  "language_info": {
   "codemirror_mode": {
    "name": "ipython",
    "version": 3
   },
   "file_extension": ".py",
   "mimetype": "text/x-python",
   "name": "python",
   "nbconvert_exporter": "python",
   "pygments_lexer": "ipython3",
   "version": "3.11.9"
  }
 },
 "nbformat": 4,
 "nbformat_minor": 5
}
